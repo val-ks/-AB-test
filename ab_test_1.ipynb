{
 "cells": [
  {
   "cell_type": "markdown",
   "id": "c064dea7-ad0f-4e0b-a34b-8ed525865169",
   "metadata": {},
   "source": [
    "## Task 2. A/B test"
   ]
  },
  {
   "cell_type": "markdown",
   "id": "4ab70b56-924e-4a7a-ba5c-c7ba6d7b85cf",
   "metadata": {},
   "source": [
    "### 1. Importing libraries"
   ]
  },
  {
   "cell_type": "code",
   "execution_count": 35,
   "id": "d4ec6f42-342f-4646-b8d3-be19bc6399c0",
   "metadata": {},
   "outputs": [],
   "source": [
    "import pandas as pd\n",
    "import numpy as np\n",
    "import pandahouse as ph\n",
    "from scipy import stats\n",
    "import seaborn as sns\n",
    "import matplotlib.pyplot as plt\n",
    "%matplotlib inline\n",
    "import scipy.stats as stats\n",
    "import statistics\n",
    "import numpy as np"
   ]
  },
  {
   "cell_type": "markdown",
   "id": "cd8bb7e6-25b3-4839-b801-df51b39609f8",
   "metadata": {},
   "source": [
    "### 2. Retrieving data from database"
   ]
  },
  {
   "cell_type": "code",
   "execution_count": 36,
   "id": "735f92bb-f707-4989-ba87-ebb98812c8eb",
   "metadata": {},
   "outputs": [],
   "source": [
    "connection = {'host': 'https://clickhouse.lab.karpov.courses/',\n",
    "                      'database':'simulator_20230220',\n",
    "                      'user':'student', \n",
    "                      'password':'dpo_python_2020'\n",
    "                     }"
   ]
  },
  {
   "cell_type": "code",
   "execution_count": 37,
   "id": "28b8483c-4c0e-4769-b76a-41339b6c4989",
   "metadata": {},
   "outputs": [],
   "source": [
    " q = '''\n",
    "select distinct user_id, exp_group, sum(action='like') as likes, sum(action='view') as views, likes/views as ctr\n",
    "from {db}.feed_actions \n",
    "where (toDate(time) between '2023-01-31' and '2023-02-06') and exp_group in (1,2)\n",
    "group by exp_group, user_id\n",
    "'''"
   ]
  },
  {
   "cell_type": "code",
   "execution_count": 38,
   "id": "40f3af8c-8dde-4997-a24a-17fcc5689a06",
   "metadata": {},
   "outputs": [
    {
     "data": {
      "text/html": [
       "<div>\n",
       "<style scoped>\n",
       "    .dataframe tbody tr th:only-of-type {\n",
       "        vertical-align: middle;\n",
       "    }\n",
       "\n",
       "    .dataframe tbody tr th {\n",
       "        vertical-align: top;\n",
       "    }\n",
       "\n",
       "    .dataframe thead th {\n",
       "        text-align: right;\n",
       "    }\n",
       "</style>\n",
       "<table border=\"1\" class=\"dataframe\">\n",
       "  <thead>\n",
       "    <tr style=\"text-align: right;\">\n",
       "      <th></th>\n",
       "      <th>user_id</th>\n",
       "      <th>exp_group</th>\n",
       "      <th>likes</th>\n",
       "      <th>views</th>\n",
       "      <th>ctr</th>\n",
       "    </tr>\n",
       "  </thead>\n",
       "  <tbody>\n",
       "    <tr>\n",
       "      <th>0</th>\n",
       "      <td>109963</td>\n",
       "      <td>1</td>\n",
       "      <td>3</td>\n",
       "      <td>15</td>\n",
       "      <td>0.200000</td>\n",
       "    </tr>\n",
       "    <tr>\n",
       "      <th>1</th>\n",
       "      <td>26117</td>\n",
       "      <td>1</td>\n",
       "      <td>32</td>\n",
       "      <td>141</td>\n",
       "      <td>0.226950</td>\n",
       "    </tr>\n",
       "    <tr>\n",
       "      <th>2</th>\n",
       "      <td>138232</td>\n",
       "      <td>1</td>\n",
       "      <td>18</td>\n",
       "      <td>73</td>\n",
       "      <td>0.246575</td>\n",
       "    </tr>\n",
       "    <tr>\n",
       "      <th>3</th>\n",
       "      <td>26295</td>\n",
       "      <td>1</td>\n",
       "      <td>33</td>\n",
       "      <td>122</td>\n",
       "      <td>0.270492</td>\n",
       "    </tr>\n",
       "    <tr>\n",
       "      <th>4</th>\n",
       "      <td>18392</td>\n",
       "      <td>1</td>\n",
       "      <td>7</td>\n",
       "      <td>32</td>\n",
       "      <td>0.218750</td>\n",
       "    </tr>\n",
       "    <tr>\n",
       "      <th>...</th>\n",
       "      <td>...</td>\n",
       "      <td>...</td>\n",
       "      <td>...</td>\n",
       "      <td>...</td>\n",
       "      <td>...</td>\n",
       "    </tr>\n",
       "    <tr>\n",
       "      <th>20026</th>\n",
       "      <td>132567</td>\n",
       "      <td>1</td>\n",
       "      <td>45</td>\n",
       "      <td>296</td>\n",
       "      <td>0.152027</td>\n",
       "    </tr>\n",
       "    <tr>\n",
       "      <th>20027</th>\n",
       "      <td>30872</td>\n",
       "      <td>1</td>\n",
       "      <td>11</td>\n",
       "      <td>59</td>\n",
       "      <td>0.186441</td>\n",
       "    </tr>\n",
       "    <tr>\n",
       "      <th>20028</th>\n",
       "      <td>25383</td>\n",
       "      <td>2</td>\n",
       "      <td>42</td>\n",
       "      <td>127</td>\n",
       "      <td>0.330709</td>\n",
       "    </tr>\n",
       "    <tr>\n",
       "      <th>20029</th>\n",
       "      <td>139020</td>\n",
       "      <td>2</td>\n",
       "      <td>24</td>\n",
       "      <td>114</td>\n",
       "      <td>0.210526</td>\n",
       "    </tr>\n",
       "    <tr>\n",
       "      <th>20030</th>\n",
       "      <td>17310</td>\n",
       "      <td>2</td>\n",
       "      <td>9</td>\n",
       "      <td>82</td>\n",
       "      <td>0.109756</td>\n",
       "    </tr>\n",
       "  </tbody>\n",
       "</table>\n",
       "<p>20031 rows × 5 columns</p>\n",
       "</div>"
      ],
      "text/plain": [
       "       user_id  exp_group  likes  views       ctr\n",
       "0       109963          1      3     15  0.200000\n",
       "1        26117          1     32    141  0.226950\n",
       "2       138232          1     18     73  0.246575\n",
       "3        26295          1     33    122  0.270492\n",
       "4        18392          1      7     32  0.218750\n",
       "...        ...        ...    ...    ...       ...\n",
       "20026   132567          1     45    296  0.152027\n",
       "20027    30872          1     11     59  0.186441\n",
       "20028    25383          2     42    127  0.330709\n",
       "20029   139020          2     24    114  0.210526\n",
       "20030    17310          2      9     82  0.109756\n",
       "\n",
       "[20031 rows x 5 columns]"
      ]
     },
     "execution_count": 38,
     "metadata": {},
     "output_type": "execute_result"
    }
   ],
   "source": [
    " df = ph.read_clickhouse(q, connection=connection)\n",
    "df"
   ]
  },
  {
   "cell_type": "markdown",
   "id": "df82e7c7-5b0a-40da-a691-dc3b1eee6258",
   "metadata": {},
   "source": [
    "### 3. Distribution CTR by group"
   ]
  },
  {
   "cell_type": "code",
   "execution_count": 39,
   "id": "a637f87c-dba5-498a-a04d-04d213f87a43",
   "metadata": {},
   "outputs": [
    {
     "data": {
      "image/png": "[encoded data removed]",
      "text/plain": [
       "<Figure size 432x288 with 1 Axes>"
      ]
     },
     "metadata": {
      "needs_background": "light"
     },
     "output_type": "display_data"
    }
   ],
   "source": [
    "groups = sns.histplot(data = df, \n",
    "              x='ctr', \n",
    "              hue='exp_group', \n",
    "              palette = ['r', 'b'],\n",
    "              alpha=0.5,\n",
    "              kde=False)"
   ]
  },
  {
   "cell_type": "markdown",
   "id": "17878ca0-eb40-425d-a5fd-f286a4f39939",
   "metadata": {},
   "source": [
    "### 4. T-test"
   ]
  },
  {
   "cell_type": "code",
   "execution_count": 40,
   "id": "57132c32-85f7-41ac-9eb3-c642cc8b5fcf",
   "metadata": {},
   "outputs": [
    {
     "data": {
      "text/plain": [
       "Ttest_indResult(statistic=0.7094392041270486, pvalue=0.4780623130874935)"
      ]
     },
     "execution_count": 40,
     "metadata": {},
     "output_type": "execute_result"
    }
   ],
   "source": [
    "stats.ttest_ind(df[df.exp_group == 1].ctr,\n",
    "                df[df.exp_group == 2].ctr,\n",
    "                equal_var=False)\n",
    "\n",
    "# According to the results of the t-test, the CTR values in the two groups do not differ significantly."
   ]
  },
  {
   "cell_type": "markdown",
   "id": "d3b7459b-0068-448f-9239-cfa13f09d762",
   "metadata": {},
   "source": [
    "### 5. Mann–Whitney U test\n"
   ]
  },
  {
   "cell_type": "code",
   "execution_count": 41,
   "id": "5c0b98c4-f9cb-4814-bac5-7a804b101097",
   "metadata": {},
   "outputs": [
    {
     "data": {
      "text/plain": [
       "MannwhitneyuResult(statistic=56601260.5, pvalue=6.0376484617779035e-56)"
      ]
     },
     "execution_count": 41,
     "metadata": {},
     "output_type": "execute_result"
    }
   ],
   "source": [
    "stats.mannwhitneyu(df[df.exp_group == 1].ctr, \n",
    "                   df[df.exp_group == 2].ctr,\n",
    "                   alternative = 'two-sided')\n",
    "\n",
    "# According to the results of the Mann-Whitney test, the CTR values in the two groups are significantly different.."
   ]
  },
  {
   "cell_type": "markdown",
   "id": "264d73b6-d803-4325-ae97-37bcc19afb22",
   "metadata": {},
   "source": [
    "### 6. Smoothed CTR"
   ]
  },
  {
   "cell_type": "code",
   "execution_count": 42,
   "id": "e793ad7c-7576-4e00-ac21-35d9e279d0cb",
   "metadata": {},
   "outputs": [],
   "source": [
    "def get_smothed_ctr(user_likes, user_views, global_ctr, alpha):\n",
    "    smothed_ctr = (user_likes + alpha * global_ctr) / (user_views + alpha)\n",
    "    return smothed_ctr\n",
    "\n",
    "global_ctr_1 = df[df.exp_group == 1].likes.sum()/df[df.exp_group == 1].views.sum()\n",
    "global_ctr_2 = df[df.exp_group == 2].likes.sum()/df[df.exp_group == 2].views.sum()\n",
    "\n"
   ]
  },
  {
   "cell_type": "code",
   "execution_count": 43,
   "id": "d078571e-6f9e-4d47-8e61-5e3c196a4d47",
   "metadata": {},
   "outputs": [
    {
     "data": {
      "text/plain": [
       "<AxesSubplot:xlabel='ctr', ylabel='Count'>"
      ]
     },
     "execution_count": 43,
     "metadata": {},
     "output_type": "execute_result"
    },
    {
     "data": {
      "image/png": "[encoded data removed]",
      "text/plain": [
       "<Figure size 432x288 with 1 Axes>"
      ]
     },
     "metadata": {
      "needs_background": "light"
     },
     "output_type": "display_data"
    }
   ],
   "source": [
    "group1 = df[df.exp_group == 1].copy()\n",
    "sns.histplot(group1.ctr, \n",
    "             kde = False)"
   ]
  },
  {
   "cell_type": "code",
   "execution_count": 44,
   "id": "4e94c49a-b344-40d8-a863-abf69c3e15c0",
   "metadata": {},
   "outputs": [
    {
     "data": {
      "text/plain": [
       "<AxesSubplot:xlabel='ctr', ylabel='Count'>"
      ]
     },
     "execution_count": 44,
     "metadata": {},
     "output_type": "execute_result"
    },
    {
     "data": {
      "image/png": "[encoded data removed]",
      "text/plain": [
       "<Figure size 432x288 with 1 Axes>"
      ]
     },
     "metadata": {
      "needs_background": "light"
     },
     "output_type": "display_data"
    }
   ],
   "source": [
    "group2 = df[df.exp_group == 2].copy()\n",
    "sns.histplot(group2.ctr, \n",
    "             kde = False)"
   ]
  },
  {
   "cell_type": "code",
   "execution_count": 45,
   "id": "0774049e-0220-424d-8d7f-278fcaee63f3",
   "metadata": {},
   "outputs": [],
   "source": [
    "group1['smothed_ctr'] = df.apply(\n",
    "    lambda x: get_smothed_ctr(x['likes'], x['views'], global_ctr_1, 5), axis=1)\n"
   ]
  },
  {
   "cell_type": "code",
   "execution_count": 46,
   "id": "793647b7-5fb2-43a9-8485-3a55d5f385f9",
   "metadata": {},
   "outputs": [
    {
     "data": {
      "text/plain": [
       "<seaborn.axisgrid.FacetGrid at 0x7fae6bf3c190>"
      ]
     },
     "execution_count": 46,
     "metadata": {},
     "output_type": "execute_result"
    },
    {
     "data": {
      "image/png": "[encoded data removed]",
      "text/plain": [
       "<Figure size 360x360 with 1 Axes>"
      ]
     },
     "metadata": {
      "needs_background": "light"
     },
     "output_type": "display_data"
    }
   ],
   "source": [
    "sns.displot(group1.smothed_ctr, \n",
    "             kde = False)"
   ]
  },
  {
   "cell_type": "code",
   "execution_count": 47,
   "id": "9ac852c8-8140-46af-8863-71c26fcd27b6",
   "metadata": {},
   "outputs": [],
   "source": [
    "group2['smothed_ctr'] = df.apply(\n",
    "    lambda x: get_smothed_ctr(x['likes'], x['views'], global_ctr_2, 5), axis=1)\n"
   ]
  },
  {
   "cell_type": "code",
   "execution_count": 48,
   "id": "349715a0-5923-40f7-b839-370388a93f7d",
   "metadata": {},
   "outputs": [
    {
     "data": {
      "text/plain": [
       "<seaborn.axisgrid.FacetGrid at 0x7fae6be78a90>"
      ]
     },
     "execution_count": 48,
     "metadata": {},
     "output_type": "execute_result"
    },
    {
     "data": {
      "image/png": "[encoded data removed]",
      "text/plain": [
       "<Figure size 360x360 with 1 Axes>"
      ]
     },
     "metadata": {
      "needs_background": "light"
     },
     "output_type": "display_data"
    }
   ],
   "source": [
    "sns.displot(group2.smothed_ctr, \n",
    "             kde = False)"
   ]
  },
  {
   "cell_type": "code",
   "execution_count": 49,
   "id": "55b1296e-deb9-4dff-aed9-7b99be494f39",
   "metadata": {},
   "outputs": [
    {
     "data": {
      "text/plain": [
       "Ttest_indResult(statistic=2.2841320431616983, pvalue=0.0223769815558559)"
      ]
     },
     "execution_count": 49,
     "metadata": {},
     "output_type": "execute_result"
    }
   ],
   "source": [
    "stats.ttest_ind(group1['smothed_ctr'], group2['smothed_ctr'], equal_var=False) \n",
    "\n",
    "# The t-test on smoothed CTR (Click-Through Rate) indicates that there is a difference between the experimental groups."
   ]
  },
  {
   "cell_type": "markdown",
   "id": "a2db13a7-4cd7-4f72-bd04-97056a2c50d0",
   "metadata": {},
   "source": [
    "### 7. Poisson Bootstrap"
   ]
  },
  {
   "cell_type": "code",
   "execution_count": 50,
   "id": "4b18047c-38bd-4fcb-9eaa-d95462f7aac1",
   "metadata": {},
   "outputs": [],
   "source": [
    "likes1 = df.loc[df['exp_group'] == 1, 'likes'].to_numpy()\n",
    "views1 = df.loc[df['exp_group'] == 1, 'views'].to_numpy()\n",
    "likes2 = df.loc[df['exp_group'] == 2, 'likes'].to_numpy()\n",
    "views2 = df.loc[df['exp_group'] == 2, 'views'].to_numpy()"
   ]
  },
  {
   "cell_type": "code",
   "execution_count": 51,
   "id": "160a2984-9a94-42ea-96b0-d65e02f65eb4",
   "metadata": {},
   "outputs": [],
   "source": [
    "def bootstrap(likes1, views1, likes2, views2, n_bootstrap=2000):\n",
    "\n",
    "    poisson_bootstraps1 = stats.poisson(1).rvs(\n",
    "        (n_bootstrap, len(likes1))).astype(np.int64)\n",
    "\n",
    "    poisson_bootstraps2 = stats.poisson(1).rvs(\n",
    "            (n_bootstrap, len(likes2))).astype(np.int64)\n",
    "    \n",
    "    globalCTR1 = (poisson_bootstraps1*likes1).sum(axis=1)/(poisson_bootstraps1*views1).sum(axis=1)\n",
    "    \n",
    "    globalCTR2 = (poisson_bootstraps2*likes2).sum(axis=1)/(poisson_bootstraps2*views2).sum(axis=1)\n",
    "\n",
    "    return globalCTR1, globalCTR2"
   ]
  },
  {
   "cell_type": "code",
   "execution_count": 52,
   "id": "f233829b-094c-4573-80ee-98e2fa79db0c",
   "metadata": {},
   "outputs": [
    {
     "data": {
      "text/plain": [
       "<AxesSubplot:ylabel='Count'>"
      ]
     },
     "execution_count": 52,
     "metadata": {},
     "output_type": "execute_result"
    },
    {
     "data": {
      "image/png": "[encoded data removed]",
      "text/plain": [
       "<Figure size 432x288 with 1 Axes>"
      ]
     },
     "metadata": {
      "needs_background": "light"
     },
     "output_type": "display_data"
    }
   ],
   "source": [
    "ctr1, ctr2 = bootstrap(likes1, views1, likes2, views2)\n",
    "\n",
    "sns.histplot(ctr1)\n",
    "sns.histplot(ctr2)"
   ]
  },
  {
   "cell_type": "code",
   "execution_count": 53,
   "id": "8a7c6585-9cde-4518-ad11-4daa29e4a979",
   "metadata": {},
   "outputs": [
    {
     "data": {
      "text/plain": [
       "<AxesSubplot:ylabel='Count'>"
      ]
     },
     "execution_count": 53,
     "metadata": {},
     "output_type": "execute_result"
    },
    {
     "data": {
      "image/png": "[encoded data removed]",
      "text/plain": [
       "<Figure size 432x288 with 1 Axes>"
      ]
     },
     "metadata": {
      "needs_background": "light"
     },
     "output_type": "display_data"
    }
   ],
   "source": [
    "sns.histplot(ctr1 - ctr2)\n",
    "#The Poisson bootstrap analysis reveals that the global CTR data does not overlap, indicating that the CTR of the first group is higher than the CTR of the second group."
   ]
  },
  {
   "cell_type": "markdown",
   "id": "bdd88acd-fba6-4a29-af40-26b082791860",
   "metadata": {},
   "source": [
    "### 8. Bucket Testing"
   ]
  },
  {
   "cell_type": "code",
   "execution_count": 54,
   "id": "c0a6ff2f-bff4-49c9-a353-cae843abea3c",
   "metadata": {},
   "outputs": [],
   "source": [
    "q = \"\"\"\n",
    "\n",
    "SELECT exp_group, bucket,\n",
    "    sum(likes)/sum(views) as bucket_ctr,\n",
    "    quantileExact(0.9)(ctr) as ctr9\n",
    "FROM (SELECT exp_group, \n",
    "        xxHash64(user_id)%50 as bucket,\n",
    "        user_id,\n",
    "        sum(action = 'like') as likes,\n",
    "        sum(action = 'view') as views,\n",
    "        likes/views as ctr\n",
    "    FROM {db}.feed_actions \n",
    "    WHERE toDate(time) between '2023-01-31' and '2023-02-06'\n",
    "        and exp_group in (1,2)\n",
    "    GROUP BY exp_group, bucket, user_id)\n",
    "GROUP BY exp_group, bucket\n",
    "\"\"\"\n",
    "\n",
    "df_bucket = ph.read_clickhouse(q, connection=connection)"
   ]
  },
  {
   "cell_type": "code",
   "execution_count": 55,
   "id": "75fda1fb-d9e0-4942-947a-0172847ceca3",
   "metadata": {},
   "outputs": [
    {
     "data": {
      "text/plain": [
       "<AxesSubplot:xlabel='bucket_ctr', ylabel='Count'>"
      ]
     },
     "execution_count": 55,
     "metadata": {},
     "output_type": "execute_result"
    },
    {
     "data": {
      "image/png": "[encoded data removed]",
      "text/plain": [
       "<Figure size 432x288 with 1 Axes>"
      ]
     },
     "metadata": {
      "needs_background": "light"
     },
     "output_type": "display_data"
    }
   ],
   "source": [
    "sns.histplot(df_bucket[df_bucket.exp_group == 1].bucket_ctr)\n"
   ]
  },
  {
   "cell_type": "code",
   "execution_count": 56,
   "id": "797882a3-a916-4093-a161-10a3f9d9ceec",
   "metadata": {},
   "outputs": [
    {
     "data": {
      "text/plain": [
       "<AxesSubplot:xlabel='bucket_ctr', ylabel='Count'>"
      ]
     },
     "execution_count": 56,
     "metadata": {},
     "output_type": "execute_result"
    },
    {
     "data": {
      "image/png": "[encoded data removed]",
      "text/plain": [
       "<Figure size 432x288 with 1 Axes>"
      ]
     },
     "metadata": {
      "needs_background": "light"
     },
     "output_type": "display_data"
    }
   ],
   "source": [
    "sns.histplot(df_bucket[df_bucket.exp_group == 2].bucket_ctr)\n"
   ]
  },
  {
   "cell_type": "code",
   "execution_count": 57,
   "id": "b83f0161-6854-468e-a6fb-4bfe0ae738d9",
   "metadata": {},
   "outputs": [
    {
     "data": {
      "text/plain": [
       "MannwhitneyuResult(statistic=1995.0, pvalue=2.859963936492646e-07)"
      ]
     },
     "execution_count": 57,
     "metadata": {},
     "output_type": "execute_result"
    }
   ],
   "source": [
    "stats.mannwhitneyu(df_bucket[df_bucket.exp_group == 1].bucket_ctr, \n",
    "                   df_bucket[df_bucket.exp_group == 2].bucket_ctr, \n",
    "                   alternative = 'two-sided')\n",
    "\n",
    "# The zone of overlapping values between the buckets of the two groups is relatively small."
   ]
  },
  {
   "cell_type": "code",
   "execution_count": 58,
   "id": "5a0678ed-b5be-4d4f-bd76-3a052cb7d224",
   "metadata": {},
   "outputs": [
    {
     "data": {
      "text/plain": [
       "Ttest_indResult(statistic=5.668234732053979, pvalue=3.4455951649945907e-07)"
      ]
     },
     "execution_count": 58,
     "metadata": {},
     "output_type": "execute_result"
    }
   ],
   "source": [
    "stats.ttest_ind(df_bucket[df_bucket.exp_group == 1].bucket_ctr, \n",
    "                   df_bucket[df_bucket.exp_group == 2].bucket_ctr, \n",
    "                   equal_var = False)\n",
    "\n",
    "# Once again, we observe that the CTR values in the two groups are different."
   ]
  },
  {
   "cell_type": "markdown",
   "id": "f63210cf-0e4c-458d-945e-59bbf163c6bb",
   "metadata": {},
   "source": [
    "### 9. Results"
   ]
  },
  {
   "cell_type": "markdown",
   "id": "a8d8c655-69b8-44aa-bfcd-1aa18487debd",
   "metadata": {},
   "source": [
    "The output results are as follows:\n",
    "* Primary t-test: p-value=0.4780623130874935 (no significant difference in the data between the experimental groups)\n",
    "* Primary Mann-Whitney test: p-value=6.0376484617779035e-56 (the zone of overlapping values between the experimental groups is relatively small)                                                     \n",
    "* t-test on smoothed CTR: p-value=0.0223769815558559 (significant difference in the data between the experimental groups)\n",
    "* Poisson bootstrap analysis: The method indicates that the global CTR data does not overlap, and the CTR of the first group is higher than the CTR of the second group.\n",
    "* t-test on bucket transformation: p-value=3.4455951649945907e-07 (significant difference in the bucket values)\n",
    "* Mann-Whitney test on bucket transformation: p-value=2.859963936492646e-07 (the zone of overlapping values is relatively small)"
   ]
  },
  {
   "cell_type": "markdown",
   "id": "abd8021e-0d7c-4957-8951-71eacec70154",
   "metadata": {},
   "source": [
    "Based on the data, the following conclusions can be drawn:\n",
    "1) The distribution of values in the second experimental group is not normal (bimodal, asymmetric), so applying parametric A/B testing methods without additional data transformation would not be appropriate. Therefore, we cannot rely on the results of the primary t-test.\n",
    "\n",
    "2) The Mann-Whitney test consistently showed that the zone of overlapping values between the samples is relatively small, indicating that there are differences between the experimental groups.\n",
    "\n",
    "3) Smoothing the CTR allowed us to obtain a t-test value where we are inclined to reject the null hypothesis. However, visually, the distribution of the second group still appears non-normal.\n",
    "\n",
    "4) After the bucket transformation of the data, the distribution of values in the second experimental group became more or less normal, and the t-test yielded a more confident p-value. This suggests that the new feature likely had an impact on the CTR.\n",
    "\n",
    "5) The Poisson bootstrap analysis indicated that the new feature ultimately had a negative effect on the CTR.\n",
    "\n",
    "6) Based on the overall experiment, it can be concluded that the new algorithm had a negative impact on user engagement, and it is not advisable to apply it to all users."
   ]
  }
 ],
 "metadata": {
  "kernelspec": {
   "display_name": "Python 3 (ipykernel)",
   "language": "python",
   "name": "python3"
  },
  "language_info": {
   "codemirror_mode": {
    "name": "ipython",
    "version": 3
   },
   "file_extension": ".py",
   "mimetype": "text/x-python",
   "name": "python",
   "nbconvert_exporter": "python",
   "pygments_lexer": "ipython3",
   "version": "3.8.10"
  }
 },
 "nbformat": 4,
 "nbformat_minor": 5
}
